{
  "nbformat": 4,
  "nbformat_minor": 0,
  "metadata": {
    "colab": {
      "provenance": [],
      "authorship_tag": "ABX9TyMfAM5NaKwoHohvyEx2hL16",
      "include_colab_link": true
    },
    "kernelspec": {
      "name": "python3",
      "display_name": "Python 3"
    },
    "language_info": {
      "name": "python"
    }
  },
  "cells": [
    {
      "cell_type": "markdown",
      "metadata": {
        "id": "view-in-github",
        "colab_type": "text"
      },
      "source": [
        "<a href=\"https://colab.research.google.com/github/khalilkhan1111/Netflix_movies_and_tv_shows_clustering/blob/main/python_practice.ipynb\" target=\"_parent\"><img src=\"https://colab.research.google.com/assets/colab-badge.svg\" alt=\"Open In Colab\"/></a>"
      ]
    },
    {
      "cell_type": "markdown",
      "source": [
        "**Integers and Floats**"
      ],
      "metadata": {
        "id": "-FyHUZdn7cUr"
      }
    },
    {
      "cell_type": "code",
      "execution_count": 2,
      "metadata": {
        "colab": {
          "base_uri": "https://localhost:8080/"
        },
        "id": "Rrj5nhv_7ZGG",
        "outputId": "6b1e6eb4-0d46-482e-86a3-8b26e5605687"
      },
      "outputs": [
        {
          "output_type": "stream",
          "name": "stdout",
          "text": [
            "Enter the first number: 8.5\n",
            "Enter the second number: 2\n",
            "Enter the operator (+, -, *, /): -\n",
            "Result: 6.5\n"
          ]
        }
      ],
      "source": [
        "def calculator(operator, num1, num2):\n",
        "    try:\n",
        "        if not (isinstance(num1, (int, float)) and isinstance(num2, (int, float))):\n",
        "            raise ValueError(\"Invalid input. Numbers expected.\")\n",
        "\n",
        "        if operator == '+':\n",
        "            result = num1 + num2\n",
        "        elif operator == '-':\n",
        "            result = num1 - num2\n",
        "        elif operator == '*':\n",
        "            result = num1 * num2\n",
        "        elif operator == '/':\n",
        "            if num2 == 0:\n",
        "                raise ZeroDivisionError(\"Cannot divide by zero.\")\n",
        "            result = num1 / num2\n",
        "        else:\n",
        "            raise ValueError(\"Invalid operator.\")\n",
        "\n",
        "        return result\n",
        "    except (ValueError, ZeroDivisionError) as e:\n",
        "        return str(e)\n",
        "\n",
        "try:\n",
        "    num1 = float(input(\"Enter the first number: \"))\n",
        "    num2 = float(input(\"Enter the second number: \"))\n",
        "    operator = input(\"Enter the operator (+, -, *, /): \")\n",
        "\n",
        "    result = calculator(operator, num1, num2)\n",
        "    print(\"Result:\", result)\n",
        "except ValueError as ve:\n",
        "    print(\"Error:\", ve)\n",
        "except ZeroDivisionError as zde:\n",
        "    print(\"Error:\", zde)"
      ]
    },
    {
      "cell_type": "markdown",
      "source": [
        "**Introduction to Strings**"
      ],
      "metadata": {
        "id": "JxPcsct6_7fv"
      }
    },
    {
      "cell_type": "code",
      "source": [
        "# Strings are immutable\n",
        "a = \"khalil!\"\n",
        "print(a)"
      ],
      "metadata": {
        "colab": {
          "base_uri": "https://localhost:8080/"
        },
        "id": "8rF7yJ_j_9sy",
        "outputId": "f7837e21-889f-4bc1-ca38-cb4419f5f04f"
      },
      "execution_count": 4,
      "outputs": [
        {
          "output_type": "stream",
          "name": "stdout",
          "text": [
            "khalil!\n"
          ]
        }
      ]
    },
    {
      "cell_type": "markdown",
      "source": [
        "Length of a string"
      ],
      "metadata": {
        "id": "_tZSUl-sAIXE"
      }
    },
    {
      "cell_type": "code",
      "source": [
        "len(a)"
      ],
      "metadata": {
        "colab": {
          "base_uri": "https://localhost:8080/"
        },
        "id": "84P7g8gLAVmt",
        "outputId": "52deb3a5-b5a5-4553-940b-363c4e356d4d"
      },
      "execution_count": 5,
      "outputs": [
        {
          "output_type": "execute_result",
          "data": {
            "text/plain": [
              "7"
            ]
          },
          "metadata": {},
          "execution_count": 5
        }
      ]
    },
    {
      "cell_type": "markdown",
      "source": [
        "slicing technique\n"
      ],
      "metadata": {
        "id": "PJHjRHgNAZDM"
      }
    },
    {
      "cell_type": "code",
      "source": [
        "#length is 0 to n-1\n",
        "print(a[0:3])"
      ],
      "metadata": {
        "colab": {
          "base_uri": "https://localhost:8080/"
        },
        "id": "vHrZSWH_AkfF",
        "outputId": "463e96eb-a592-4067-9305-febbd8d9a536"
      },
      "execution_count": 8,
      "outputs": [
        {
          "output_type": "stream",
          "name": "stdout",
          "text": [
            "kha\n"
          ]
        }
      ]
    },
    {
      "cell_type": "markdown",
      "source": [
        "negative slicing\n"
      ],
      "metadata": {
        "id": "pQQYUMGkAyMQ"
      }
    },
    {
      "cell_type": "code",
      "source": [
        "(a[-5:-2])"
      ],
      "metadata": {
        "colab": {
          "base_uri": "https://localhost:8080/",
          "height": 35
        },
        "id": "r53Cy8WaAt_-",
        "outputId": "dad3edb0-052a-45a2-bb28-50bdc651069e"
      },
      "execution_count": 9,
      "outputs": [
        {
          "output_type": "execute_result",
          "data": {
            "text/plain": [
              "'ali'"
            ],
            "application/vnd.google.colaboratory.intrinsic+json": {
              "type": "string"
            }
          },
          "metadata": {},
          "execution_count": 9
        }
      ]
    },
    {
      "cell_type": "markdown",
      "source": [
        "upper and lower case"
      ],
      "metadata": {
        "id": "NyTJcesPBBR2"
      }
    },
    {
      "cell_type": "code",
      "source": [
        "a.upper()\n"
      ],
      "metadata": {
        "colab": {
          "base_uri": "https://localhost:8080/",
          "height": 35
        },
        "id": "Y47ahHYaBAJ_",
        "outputId": "0c3da0e0-68b6-4866-d6d0-a9247ac2b642"
      },
      "execution_count": 11,
      "outputs": [
        {
          "output_type": "execute_result",
          "data": {
            "text/plain": [
              "'KHALIL!'"
            ],
            "application/vnd.google.colaboratory.intrinsic+json": {
              "type": "string"
            }
          },
          "metadata": {},
          "execution_count": 11
        }
      ]
    },
    {
      "cell_type": "code",
      "source": [
        "a.lower()"
      ],
      "metadata": {
        "colab": {
          "base_uri": "https://localhost:8080/",
          "height": 35
        },
        "id": "UXCYDM75BNXj",
        "outputId": "f3bb388e-0c40-4c4e-f02a-a63e0a6d25d4"
      },
      "execution_count": 12,
      "outputs": [
        {
          "output_type": "execute_result",
          "data": {
            "text/plain": [
              "'khalil!'"
            ],
            "application/vnd.google.colaboratory.intrinsic+json": {
              "type": "string"
            }
          },
          "metadata": {},
          "execution_count": 12
        }
      ]
    },
    {
      "cell_type": "markdown",
      "source": [
        "replace"
      ],
      "metadata": {
        "id": "PU0YATDwBP3r"
      }
    },
    {
      "cell_type": "code",
      "source": [
        "print(a.replace( \"khalil!\",\"parveen!\"))"
      ],
      "metadata": {
        "colab": {
          "base_uri": "https://localhost:8080/"
        },
        "id": "OWv9gSwtBXUe",
        "outputId": "37b190d7-1ce8-4c1b-bb81-8c6bb74cc81d"
      },
      "execution_count": 16,
      "outputs": [
        {
          "output_type": "stream",
          "name": "stdout",
          "text": [
            "parveen!\n"
          ]
        }
      ]
    },
    {
      "cell_type": "markdown",
      "source": [
        "split"
      ],
      "metadata": {
        "id": "EGUgR0dLBnkH"
      }
    },
    {
      "cell_type": "code",
      "source": [
        "print(a.split())"
      ],
      "metadata": {
        "colab": {
          "base_uri": "https://localhost:8080/"
        },
        "id": "efI8InvtBrVk",
        "outputId": "d43ef00d-7a14-43d2-e742-c9aed6bce235"
      },
      "execution_count": 17,
      "outputs": [
        {
          "output_type": "stream",
          "name": "stdout",
          "text": [
            "['khalil!']\n"
          ]
        }
      ]
    },
    {
      "cell_type": "markdown",
      "source": [
        "Write a Python function to get a string made of 4\n",
        "copies of the last two characters of a specified string (length must be at least 2)."
      ],
      "metadata": {
        "id": "1LLmlhiVB-O4"
      }
    },
    {
      "cell_type": "code",
      "source": [
        "str1 = str(input())\n",
        "def sub_str(str1):\n",
        "    sub_str = str1[-2:]\n",
        "    return sub_str * 4\n",
        "print(sub_str(str1))"
      ],
      "metadata": {
        "colab": {
          "base_uri": "https://localhost:8080/"
        },
        "id": "PT4mJ83jCAIb",
        "outputId": "6e7bf056-0eb7-45de-95da-97af7eb5c49f"
      },
      "execution_count": 18,
      "outputs": [
        {
          "output_type": "stream",
          "name": "stdout",
          "text": [
            "khalil\n",
            "ilililil\n"
          ]
        }
      ]
    },
    {
      "cell_type": "markdown",
      "source": [
        "Write a Python program to remove the nth index character from a nonempty string."
      ],
      "metadata": {
        "id": "HDqS2wiqCJUH"
      }
    },
    {
      "cell_type": "code",
      "source": [
        "strn = str(input())\n",
        "n = int(input())\n",
        "def remove_char(str, n):\n",
        "     first_part = str[:n]\n",
        "     last_part = str[n+1:]\n",
        "     return first_part + last_part\n",
        "print(remove_char(strn, n))"
      ],
      "metadata": {
        "colab": {
          "base_uri": "https://localhost:8080/"
        },
        "id": "Q_E2J0C7CN1Q",
        "outputId": "fe6cf3e1-0f07-4fb4-ecb4-354797bd76a7"
      },
      "execution_count": 19,
      "outputs": [
        {
          "output_type": "stream",
          "name": "stdout",
          "text": [
            "khalil\n",
            "3\n",
            "khail\n"
          ]
        }
      ]
    },
    {
      "cell_type": "markdown",
      "source": [
        "Write a Python program to change a given string to a new string where the first and last chars have been exchanged."
      ],
      "metadata": {
        "id": "pOgIMvomCY6A"
      }
    },
    {
      "cell_type": "code",
      "source": [
        "str1 = str(input())\n",
        "def change_string(str1):\n",
        "    return str1[-1:] + str1[1:-1] + str1[:1]\n",
        "print(change_string(str1))"
      ],
      "metadata": {
        "colab": {
          "base_uri": "https://localhost:8080/"
        },
        "id": "Vyw6P07MCcxZ",
        "outputId": "f5a588cf-7626-4b1e-8bff-90b8a9790ffe"
      },
      "execution_count": 20,
      "outputs": [
        {
          "output_type": "stream",
          "name": "stdout",
          "text": [
            "khalil\n",
            "lhalik\n"
          ]
        }
      ]
    }
  ]
}