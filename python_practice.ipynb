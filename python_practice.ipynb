{
  "nbformat": 4,
  "nbformat_minor": 0,
  "metadata": {
    "colab": {
      "provenance": [],
      "authorship_tag": "ABX9TyNrjdL7RQmxQr1beKGumPEy",
      "include_colab_link": true
    },
    "kernelspec": {
      "name": "python3",
      "display_name": "Python 3"
    },
    "language_info": {
      "name": "python"
    }
  },
  "cells": [
    {
      "cell_type": "markdown",
      "metadata": {
        "id": "view-in-github",
        "colab_type": "text"
      },
      "source": [
        "<a href=\"https://colab.research.google.com/github/khalilkhan1111/Netflix_movies_and_tv_shows_clustering/blob/main/python_practice.ipynb\" target=\"_parent\"><img src=\"https://colab.research.google.com/assets/colab-badge.svg\" alt=\"Open In Colab\"/></a>"
      ]
    },
    {
      "cell_type": "markdown",
      "source": [
        "**Integers and Floats**"
      ],
      "metadata": {
        "id": "-FyHUZdn7cUr"
      }
    },
    {
      "cell_type": "code",
      "execution_count": 2,
      "metadata": {
        "colab": {
          "base_uri": "https://localhost:8080/"
        },
        "id": "Rrj5nhv_7ZGG",
        "outputId": "6b1e6eb4-0d46-482e-86a3-8b26e5605687"
      },
      "outputs": [
        {
          "output_type": "stream",
          "name": "stdout",
          "text": [
            "Enter the first number: 8.5\n",
            "Enter the second number: 2\n",
            "Enter the operator (+, -, *, /): -\n",
            "Result: 6.5\n"
          ]
        }
      ],
      "source": [
        "def calculator(operator, num1, num2):\n",
        "    try:\n",
        "        if not (isinstance(num1, (int, float)) and isinstance(num2, (int, float))):\n",
        "            raise ValueError(\"Invalid input. Numbers expected.\")\n",
        "\n",
        "        if operator == '+':\n",
        "            result = num1 + num2\n",
        "        elif operator == '-':\n",
        "            result = num1 - num2\n",
        "        elif operator == '*':\n",
        "            result = num1 * num2\n",
        "        elif operator == '/':\n",
        "            if num2 == 0:\n",
        "                raise ZeroDivisionError(\"Cannot divide by zero.\")\n",
        "            result = num1 / num2\n",
        "        else:\n",
        "            raise ValueError(\"Invalid operator.\")\n",
        "\n",
        "        return result\n",
        "    except (ValueError, ZeroDivisionError) as e:\n",
        "        return str(e)\n",
        "\n",
        "try:\n",
        "    num1 = float(input(\"Enter the first number: \"))\n",
        "    num2 = float(input(\"Enter the second number: \"))\n",
        "    operator = input(\"Enter the operator (+, -, *, /): \")\n",
        "\n",
        "    result = calculator(operator, num1, num2)\n",
        "    print(\"Result:\", result)\n",
        "except ValueError as ve:\n",
        "    print(\"Error:\", ve)\n",
        "except ZeroDivisionError as zde:\n",
        "    print(\"Error:\", zde)"
      ]
    }
  ]
}